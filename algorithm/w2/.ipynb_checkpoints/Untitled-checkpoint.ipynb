{
 "cells": [
  {
   "cell_type": "code",
   "execution_count": 1,
   "metadata": {
    "collapsed": true
   },
   "outputs": [],
   "source": [
    "import scipy as py\n",
    "import numpy as np"
   ]
  },
  {
   "cell_type": "code",
   "execution_count": 3,
   "metadata": {
    "collapsed": false
   },
   "outputs": [],
   "source": [
    "array1=np.loadtxt(\"21.txt\")"
   ]
  },
  {
   "cell_type": "code",
   "execution_count": 5,
   "metadata": {
    "collapsed": false
   },
   "outputs": [
    {
     "data": {
      "text/plain": [
       "(10000,)"
      ]
     },
     "execution_count": 5,
     "metadata": {},
     "output_type": "execute_result"
    }
   ],
   "source": [
    "array1.shape"
   ]
  },
  {
   "cell_type": "code",
   "execution_count": 7,
   "metadata": {
    "collapsed": false
   },
   "outputs": [],
   "source": [
    "t1= array1[:10]"
   ]
  },
  {
   "cell_type": "code",
   "execution_count": 8,
   "metadata": {
    "collapsed": false
   },
   "outputs": [
    {
     "data": {
      "text/plain": [
       "array([ 2148.,  9058.,  7742.,  3153.,  6324.,   609.,  7628.,  5469.,\n",
       "        7017.,   504.])"
      ]
     },
     "execution_count": 8,
     "metadata": {},
     "output_type": "execute_result"
    }
   ],
   "source": [
    "t1"
   ]
  },
  {
   "cell_type": "code",
   "execution_count": 9,
   "metadata": {
    "collapsed": false
   },
   "outputs": [
    {
     "ename": "AttributeError",
     "evalue": "'numpy.ndarray' object has no attribute 'insert'",
     "output_type": "error",
     "traceback": [
      "\u001b[1;31m---------------------------------------------------------------------------\u001b[0m",
      "\u001b[1;31mAttributeError\u001b[0m                            Traceback (most recent call last)",
      "\u001b[1;32m<ipython-input-9-f1a78f4a6844>\u001b[0m in \u001b[0;36m<module>\u001b[1;34m()\u001b[0m\n\u001b[1;32m----> 1\u001b[1;33m \u001b[0mt1\u001b[0m\u001b[1;33m.\u001b[0m\u001b[0minsert\u001b[0m\u001b[1;33m(\u001b[0m\u001b[1;36m2\u001b[0m\u001b[1;33m,\u001b[0m\u001b[1;36m10\u001b[0m\u001b[1;33m)\u001b[0m\u001b[1;33m\u001b[0m\u001b[0m\n\u001b[0m",
      "\u001b[1;31mAttributeError\u001b[0m: 'numpy.ndarray' object has no attribute 'insert'"
     ]
    }
   ],
   "source": [
    "t1.insert(2,10)"
   ]
  },
  {
   "cell_type": "code",
   "execution_count": 10,
   "metadata": {
    "collapsed": false
   },
   "outputs": [
    {
     "data": {
      "text/plain": [
       "array([ 2148.,  9058.,    10.,  7742.,  3153.,  6324.,   609.,  7628.,\n",
       "        5469.,  7017.,   504.])"
      ]
     },
     "execution_count": 10,
     "metadata": {},
     "output_type": "execute_result"
    }
   ],
   "source": [
    "np.insert(t1,2,10)"
   ]
  },
  {
   "cell_type": "code",
   "execution_count": 11,
   "metadata": {
    "collapsed": false
   },
   "outputs": [
    {
     "data": {
      "text/plain": [
       "array([ 2148.,  9058.,  7742.,  3153.,  6324.,   609.,  7628.,  5469.,\n",
       "        7017.,   504.])"
      ]
     },
     "execution_count": 11,
     "metadata": {},
     "output_type": "execute_result"
    }
   ],
   "source": [
    "t1"
   ]
  },
  {
   "cell_type": "code",
   "execution_count": 12,
   "metadata": {
    "collapsed": false
   },
   "outputs": [
    {
     "ename": "AttributeError",
     "evalue": "'numpy.ndarray' object has no attribute 'pop'",
     "output_type": "error",
     "traceback": [
      "\u001b[1;31m---------------------------------------------------------------------------\u001b[0m",
      "\u001b[1;31mAttributeError\u001b[0m                            Traceback (most recent call last)",
      "\u001b[1;32m<ipython-input-12-4340b6dad056>\u001b[0m in \u001b[0;36m<module>\u001b[1;34m()\u001b[0m\n\u001b[1;32m----> 1\u001b[1;33m \u001b[0mt1\u001b[0m\u001b[1;33m.\u001b[0m\u001b[0mpop\u001b[0m\u001b[1;33m(\u001b[0m\u001b[1;36m2\u001b[0m\u001b[1;33m)\u001b[0m\u001b[1;33m\u001b[0m\u001b[0m\n\u001b[0m",
      "\u001b[1;31mAttributeError\u001b[0m: 'numpy.ndarray' object has no attribute 'pop'"
     ]
    }
   ],
   "source": [
    "t1.pop(2)"
   ]
  },
  {
   "cell_type": "code",
   "execution_count": 14,
   "metadata": {
    "collapsed": false
   },
   "outputs": [
    {
     "data": {
      "text/plain": [
       "array([ 9058.,  7742.,  3153.,  6324.,   609.,  7628.,  5469.,  7017.,\n",
       "         504.])"
      ]
     },
     "execution_count": 14,
     "metadata": {},
     "output_type": "execute_result"
    }
   ],
   "source": [
    "np.delete(t1,0)"
   ]
  },
  {
   "cell_type": "code",
   "execution_count": 126,
   "metadata": {
    "collapsed": false
   },
   "outputs": [],
   "source": [
    "def qr(arr):\n",
    "    n= len(arr)\n",
    "    if n<=1:\n",
    "        return 0\n",
    "    else:\n",
    "        pivot= arr[0]\n",
    "        j=0\n",
    "        for i in range(1,n):\n",
    "            if arr[i] < pivot:\n",
    "                t1 = arr[i]\n",
    "                arr[j+1],arr[i]= arr[i],arr[j+1]\n",
    "                j +=1\n",
    "        arr[0],arr[j]= arr[j],arr[0]    \n",
    "        #print( arr[0:j],pivot,arr[j+1:])\n",
    "        return (qr(arr[0:j]) + qr(arr[j+1:]) +n-1)             "
   ]
  },
  {
   "cell_type": "code",
   "execution_count": 125,
   "metadata": {
    "collapsed": false
   },
   "outputs": [
    {
     "name": "stdout",
     "output_type": "stream",
     "text": [
      "[1, 2] 3 [5, 8, 4, 7, 6]\n",
      "[] 1 [2]\n",
      "[4] 5 [8, 7, 6]\n",
      "[6, 7] 8 []\n",
      "[] 6 [7]\n"
     ]
    },
    {
     "data": {
      "text/plain": [
       "15"
      ]
     },
     "execution_count": 125,
     "metadata": {},
     "output_type": "execute_result"
    }
   ],
   "source": [
    "qr([3,8,2,5,1,4,7,6])"
   ]
  },
  {
   "cell_type": "code",
   "execution_count": 169,
   "metadata": {
    "collapsed": false
   },
   "outputs": [],
   "source": [
    "def qrL(arr):\n",
    "    n= len(arr)\n",
    "    if n<=1:\n",
    "        return 0\n",
    "    else:\n",
    "        pivot= arr[-1]\n",
    "        j=0\n",
    "        arr[0],arr[-1]=arr[-1],arr[0]\n",
    "        for i in range(1,n):\n",
    "            if arr[i] < pivot:\n",
    "                t1 = arr[i]\n",
    "                arr[j+1],arr[i]= arr[i],arr[j+1]\n",
    "                j +=1\n",
    "        arr[0],arr[j]= arr[j],arr[0]    \n",
    "        #print( arr[0:j],pivot,arr[j+1:])\n",
    "        return (qrL(arr[0:j]) + qrL(arr[j+1:]) +n-1)     "
   ]
  },
  {
   "cell_type": "code",
   "execution_count": 170,
   "metadata": {
    "collapsed": false
   },
   "outputs": [],
   "source": [
    "t2=[3,9,8,4,6,10,2,5,7,1]"
   ]
  },
  {
   "cell_type": "code",
   "execution_count": 30,
   "metadata": {
    "collapsed": false
   },
   "outputs": [
    {
     "name": "stdout",
     "output_type": "stream",
     "text": [
      "[2 1] [ 9  8  4  6 10  5  7] 3\n",
      "[1] [] 2\n",
      "[8 4 6 5 7] [10] 9\n",
      "[4 6 5 7] [] 8\n",
      "[] [6 5 7] 4\n",
      "[5] [7] 6\n"
     ]
    },
    {
     "data": {
      "text/plain": [
       "25"
      ]
     },
     "execution_count": 30,
     "metadata": {},
     "output_type": "execute_result"
    }
   ],
   "source": [
    "qr(t2)"
   ]
  },
  {
   "cell_type": "code",
   "execution_count": 171,
   "metadata": {
    "collapsed": false
   },
   "outputs": [
    {
     "data": {
      "text/plain": [
       "29"
      ]
     },
     "execution_count": 171,
     "metadata": {},
     "output_type": "execute_result"
    }
   ],
   "source": [
    "qrL(t2)"
   ]
  },
  {
   "cell_type": "code",
   "execution_count": 158,
   "metadata": {
    "collapsed": true
   },
   "outputs": [],
   "source": [
    "def qrL1(arr):\n",
    "    n= len(arr)\n",
    "    if n<=1:\n",
    "        return 0\n",
    "    else:\n",
    "        pivot= arr[-1]\n",
    "        j=0\n",
    "        for i in range(n-1):\n",
    "            if arr[i] < pivot:\n",
    "                arr[i],arr[j]= arr[j],arr[i]\n",
    "                j +=1\n",
    "        arr[j],arr[-1]=arr[-1],arr[j]\n",
    "        print( arr[0:j],pivot,arr[j+1:])\n",
    "        return (qrL1(arr[0:j]) + qrL1(arr[j+1:]) +n-1)"
   ]
  },
  {
   "cell_type": "code",
   "execution_count": 159,
   "metadata": {
    "collapsed": false
   },
   "outputs": [
    {
     "name": "stdout",
     "output_type": "stream",
     "text": [
      "[] 1 [9, 8, 4, 6, 10, 2, 5, 7, 3]\n",
      "[2] 3 [4, 6, 10, 9, 5, 7, 8]\n",
      "[4, 6, 5, 7] 8 [9, 10]\n",
      "[4, 6, 5] 7 []\n",
      "[4] 5 [6]\n",
      "[9] 10 []\n"
     ]
    },
    {
     "data": {
      "text/plain": [
       "29"
      ]
     },
     "execution_count": 159,
     "metadata": {},
     "output_type": "execute_result"
    }
   ],
   "source": [
    "t2=[3,9,8,4,6,10,2,5,7,1]\n",
    "qrL1(t2)"
   ]
  },
  {
   "cell_type": "code",
   "execution_count": 156,
   "metadata": {
    "collapsed": false
   },
   "outputs": [
    {
     "data": {
      "text/plain": [
       "615"
      ]
     },
     "execution_count": 156,
     "metadata": {},
     "output_type": "execute_result"
    }
   ],
   "source": [
    "t3= np.loadtxt(\"22.txt\")\n",
    "qr(t3)"
   ]
  },
  {
   "cell_type": "code",
   "execution_count": 172,
   "metadata": {
    "collapsed": false
   },
   "outputs": [
    {
     "data": {
      "text/plain": [
       "587"
      ]
     },
     "execution_count": 172,
     "metadata": {},
     "output_type": "execute_result"
    }
   ],
   "source": [
    "t3= np.loadtxt(\"22.txt\")\n",
    "qrL(t3)"
   ]
  },
  {
   "cell_type": "code",
   "execution_count": 191,
   "metadata": {
    "collapsed": true
   },
   "outputs": [],
   "source": [
    "def qrLM(arr):\n",
    "    n= len(arr)\n",
    "    if n<=1:\n",
    "        return 0\n",
    "    else:\n",
    "        minP= int((n+1)/2)-1\n",
    "        pivot= np.median([arr[0],arr[minP],arr[-1]])\n",
    "        if pivot== arr[-1]:\n",
    "            arr[0],arr[-1]=arr[-1],arr[0]\n",
    "        elif pivot==arr[minP]:\n",
    "            arr[0],arr[minP]=arr[minP],arr[0]      \n",
    "        j=0\n",
    "        for i in range(1,n):\n",
    "            if arr[i] < pivot:\n",
    "                t1 = arr[i]\n",
    "                arr[j+1],arr[i]= arr[i],arr[j+1]\n",
    "                j +=1\n",
    "        arr[0],arr[j]= arr[j],arr[0]    \n",
    "        #print( arr[0:j],pivot,arr[j+1:])\n",
    "        return (qrLM(arr[0:j]) + qrLM(arr[j+1:]) +n-1)"
   ]
  },
  {
   "cell_type": "code",
   "execution_count": 192,
   "metadata": {
    "collapsed": false
   },
   "outputs": [
    {
     "data": {
      "text/plain": [
       "518"
      ]
     },
     "execution_count": 192,
     "metadata": {},
     "output_type": "execute_result"
    }
   ],
   "source": [
    "t3= np.loadtxt(\"22.txt\")\n",
    "qrLM(t3)"
   ]
  },
  {
   "cell_type": "code",
   "execution_count": 193,
   "metadata": {
    "collapsed": false
   },
   "outputs": [
    {
     "data": {
      "text/plain": [
       "162085"
      ]
     },
     "execution_count": 193,
     "metadata": {},
     "output_type": "execute_result"
    }
   ],
   "source": [
    "array1=np.loadtxt(\"21.txt\")\n",
    "qr(array1)"
   ]
  },
  {
   "cell_type": "code",
   "execution_count": 194,
   "metadata": {
    "collapsed": false
   },
   "outputs": [
    {
     "data": {
      "text/plain": [
       "164123"
      ]
     },
     "execution_count": 194,
     "metadata": {},
     "output_type": "execute_result"
    }
   ],
   "source": [
    "array1=np.loadtxt(\"21.txt\")\n",
    "qrL(array1)"
   ]
  },
  {
   "cell_type": "code",
   "execution_count": 196,
   "metadata": {
    "collapsed": false
   },
   "outputs": [
    {
     "data": {
      "text/plain": [
       "138382"
      ]
     },
     "execution_count": 196,
     "metadata": {},
     "output_type": "execute_result"
    }
   ],
   "source": [
    "array1=np.loadtxt(\"21.txt\")\n",
    "qrLM(array1)"
   ]
  },
  {
   "cell_type": "code",
   "execution_count": 199,
   "metadata": {
    "collapsed": false
   },
   "outputs": [
    {
     "data": {
      "text/plain": [
       "10297"
      ]
     },
     "execution_count": 199,
     "metadata": {},
     "output_type": "execute_result"
    }
   ],
   "source": [
    "t4= np.loadtxt(\"23.txt\")\n",
    "qr(t4)\n"
   ]
  },
  {
   "cell_type": "code",
   "execution_count": 200,
   "metadata": {
    "collapsed": false
   },
   "outputs": [
    {
     "data": {
      "text/plain": [
       "10184"
      ]
     },
     "execution_count": 200,
     "metadata": {},
     "output_type": "execute_result"
    }
   ],
   "source": [
    "t4= np.loadtxt(\"23.txt\")\n",
    "qrL(t4)\n"
   ]
  },
  {
   "cell_type": "code",
   "execution_count": 201,
   "metadata": {
    "collapsed": false
   },
   "outputs": [
    {
     "data": {
      "text/plain": [
       "8921"
      ]
     },
     "execution_count": 201,
     "metadata": {},
     "output_type": "execute_result"
    }
   ],
   "source": [
    "t4= np.loadtxt(\"23.txt\")\n",
    "qrLM(t4)"
   ]
  },
  {
   "cell_type": "code",
   "execution_count": null,
   "metadata": {
    "collapsed": true
   },
   "outputs": [],
   "source": []
  }
 ],
 "metadata": {
  "kernelspec": {
   "display_name": "Python [Root]",
   "language": "python",
   "name": "Python [Root]"
  },
  "language_info": {
   "codemirror_mode": {
    "name": "ipython",
    "version": 3
   },
   "file_extension": ".py",
   "mimetype": "text/x-python",
   "name": "python",
   "nbconvert_exporter": "python",
   "pygments_lexer": "ipython3",
   "version": "3.5.2"
  }
 },
 "nbformat": 4,
 "nbformat_minor": 0
}
